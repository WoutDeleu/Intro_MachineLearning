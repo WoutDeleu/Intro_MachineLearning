{
 "cells": [
  {
   "cell_type": "markdown",
   "metadata": {},
   "source": [
    "# Machine learning - Detect Discipline"
   ]
  },
  {
   "cell_type": "markdown",
   "metadata": {},
   "source": [
    "https://medium.com/@nutanbhogendrasharma/pytorch-convolutional-neural-network-with-mnist-dataset-4e8a4265e118"
   ]
  },
  {
   "cell_type": "markdown",
   "metadata": {},
   "source": [
    "### 0. Imports"
   ]
  },
  {
   "cell_type": "code",
   "execution_count": 2,
   "metadata": {},
   "outputs": [],
   "source": [
    "import pandas as pd\n",
    "import math\n",
    "from pandas.plotting import scatter_matrix\n",
    "from sklearn.model_selection import train_test_split\n",
    "from matplotlib import pyplot\n",
    "\n",
    "from sklearn.discriminant_analysis import LinearDiscriminantAnalysis\n",
    "from sklearn.linear_model import LogisticRegression\n",
    "from sklearn.naive_bayes import GaussianNB\n",
    "from sklearn.neighbors import KNeighborsClassifier\n",
    "from sklearn.svm import SVC\n",
    "from sklearn.tree import DecisionTreeClassifier\n",
    "from sklearn.model_selection import StratifiedKFold, cross_val_score\n",
    "from sklearn.metrics import classification_report, confusion_matrix, accuracy_score\n"
   ]
  },
  {
   "cell_type": "markdown",
   "metadata": {},
   "source": [
    "## 1. Filter & Merge Badminton Dataset"
   ]
  },
  {
   "cell_type": "markdown",
   "metadata": {},
   "source": [
    "### 1.1 Merge sets"
   ]
  },
  {
   "cell_type": "code",
   "execution_count": 3,
   "metadata": {},
   "outputs": [],
   "source": [
    "datasets_list = []\n",
    "ms = pd.read_csv(\"./Badminton_Dataset/ms.csv\")\n",
    "datasets_list.append(ms)\n",
    "md = pd.read_csv(\"./Badminton_Dataset/md.csv\")\n",
    "datasets_list.append(md)\n",
    "ws = pd.read_csv(\"./Badminton_Dataset/ws.csv\")\n",
    "datasets_list.append(ws)\n",
    "wd = pd.read_csv(\"./Badminton_Dataset/wd.csv\")\n",
    "datasets_list.append(wd)\n",
    "xd = pd.read_csv(\"./Badminton_Dataset/xd.csv\")\n",
    "datasets_list.append(xd)\n",
    "\n",
    "# ms = pd.read_csv(\"./1-Badminton/Badminton_Dataset/ms.csv\")\n",
    "# datasets_list.append(ms)\n",
    "# md = pd.read_csv(\"./1-Badminton/Badminton_Dataset/md.csv\")\n",
    "# datasets_list.append(md)\n",
    "# ws = pd.read_csv(\"./1-Badminton/Badminton_Dataset/ws.csv\")\n",
    "# datasets_list.append(ws)\n",
    "# wd = pd.read_csv(\"./1-Badminton/Badminton_Dataset/wd.csv\")\n",
    "# datasets_list.append(wd)\n",
    "# xd = pd.read_csv(\"./1-Badminton/Badminton_Dataset/xd.csv\")\n",
    "# datasets_list.append(xd)\n",
    "\n",
    "merged_dataset = pd.DataFrame()\n",
    "for dataset in datasets_list:\n",
    "    merged_dataset = pd.concat([merged_dataset, dataset])"
   ]
  },
  {
   "cell_type": "markdown",
   "metadata": {},
   "source": [
    "### 1.2 Format data & filter unnecesary fields"
   ]
  },
  {
   "cell_type": "code",
   "execution_count": 4,
   "metadata": {},
   "outputs": [
    {
     "name": "stdout",
     "output_type": "stream",
     "text": [
      "['tournament', 'city', 'country', 'date', 'tournament_type', 'discipline', 'round', 'winner', 'nb_sets', 'retired', 'game_1_score', 'game_2_score', 'game_3_score', 'team_one_players', 'team_two_players', 'team_one_nationalities', 'team_two_nationalities', 'team_one_total_points', 'team_two_total_points', 'team_one_most_consecutive_points', 'team_two_most_consecutive_points', 'team_one_game_points', 'team_two_game_points', 'team_one_most_consecutive_points_game_1', 'team_two_most_consecutive_points_game_1', 'team_one_game_points_game_1', 'team_two_game_points_game_1', 'game_1_scores', 'team_one_most_consecutive_points_game_2', 'team_two_most_consecutive_points_game_2', 'team_one_game_points_game_2', 'team_two_game_points_game_2', 'game_2_scores', 'team_one_most_consecutive_points_game_3', 'team_two_most_consecutive_points_game_3', 'team_one_game_points_game_3', 'team_two_game_points_game_3', 'game_3_scores', 'team_one_player_one', 'team_one_player_two', 'team_two_player_one', 'team_two_player_two', 'team_one_player_one_nationality', 'team_one_player_two_nationality', 'team_two_player_one_nationality', 'team_two_player_two_nationality']\n"
     ]
    }
   ],
   "source": [
    "print(list(merged_dataset.columns))"
   ]
  },
  {
   "cell_type": "code",
   "execution_count": 5,
   "metadata": {},
   "outputs": [],
   "source": [
    "def formatScoreGame(value):\n",
    "    if(pd.isnull(value)): \n",
    "        return []\n",
    "    else: \n",
    "        score = value.split(\"-\")\n",
    "        ret = []\n",
    "        for val in score:\n",
    "            ret.append(int(val))\n",
    "        return ret\n",
    "        \n",
    "def formatScoreGame(value):\n",
    "    if(pd.isnull(value)): \n",
    "        return []\n",
    "    else: \n",
    "        score = value.split(\"-\")\n",
    "        ret = []\n",
    "        for val in score:\n",
    "            ret.append(int(val))\n",
    "        return ret\n",
    "\n",
    "def formatTotalScore(value):\n",
    "    if(pd.isnull(value)):\n",
    "        return 0\n",
    "    else: \n",
    "        return int(value)\n",
    "\n",
    "def formatScoreGameT1(value):\n",
    "    if(value == 0 or len(value) == 0): \n",
    "        return 0\n",
    "    else: \n",
    "        return value[0]\n",
    "    \n",
    "def formatScoreGameT2(value):\n",
    "    if(value == 0 or len(value) == 0): \n",
    "        return 0\n",
    "    else: \n",
    "        return value[1]"
   ]
  },
  {
   "cell_type": "code",
   "execution_count": 6,
   "metadata": {},
   "outputs": [
    {
     "name": "stdout",
     "output_type": "stream",
     "text": [
      "['discipline', 'nb_sets', 'retired', 'team_one_total_points', 'team_two_total_points', 'team_one_most_consecutive_points', 'team_two_most_consecutive_points', 'team_one_game_points', 'team_two_game_points', 'team_one_most_consecutive_points_game_1', 'team_two_most_consecutive_points_game_1', 'team_one_game_points_game_1', 'team_two_game_points_game_1', 'team_one_most_consecutive_points_game_2', 'team_two_most_consecutive_points_game_2', 'team_one_game_points_game_2', 'team_two_game_points_game_2', 'team_one_most_consecutive_points_game_3', 'team_two_most_consecutive_points_game_3', 'team_one_game_points_game_3', 'team_two_game_points_game_3', 'game_1_score_t1', 'game_1_score_t2', 'game_3_score_t1', 'game_3_score_t2']\n"
     ]
    }
   ],
   "source": [
    "merged_dataset['game_1_score'] = merged_dataset['game_1_score'].apply(formatScoreGame)\n",
    "merged_dataset['game_2_score'] = merged_dataset['game_2_score'].apply(formatScoreGame)\n",
    "merged_dataset['game_3_score'] = merged_dataset['game_3_score'].apply(formatScoreGame)\n",
    "merged_dataset['team_one_total_points'] = merged_dataset['team_one_total_points'].apply(formatTotalScore)\n",
    "merged_dataset['team_two_total_points'] = merged_dataset['team_two_total_points'].apply(formatTotalScore)\n",
    "merged_dataset['team_one_most_consecutive_points'] = merged_dataset['team_one_most_consecutive_points'].apply(formatTotalScore)\n",
    "merged_dataset['team_two_most_consecutive_points'] = merged_dataset['team_two_most_consecutive_points'].apply(formatTotalScore)\n",
    "merged_dataset['team_one_game_points'] = merged_dataset['team_one_game_points'].apply(formatTotalScore)\n",
    "merged_dataset['team_two_game_points'] = merged_dataset['team_two_game_points'].apply(formatTotalScore)\n",
    "merged_dataset['team_one_most_consecutive_points_game_1'] = merged_dataset['team_one_most_consecutive_points_game_1'].apply(formatTotalScore)\n",
    "merged_dataset['team_two_most_consecutive_points_game_1'] = merged_dataset['team_two_most_consecutive_points_game_1'].apply(formatTotalScore)\n",
    "merged_dataset['team_one_game_points_game_1'] = merged_dataset['team_one_game_points_game_1'].apply(formatTotalScore)\n",
    "merged_dataset['team_two_game_points_game_1'] = merged_dataset['team_two_game_points_game_1'].apply(formatTotalScore)\n",
    "merged_dataset['team_one_most_consecutive_points_game_2'] = merged_dataset['team_one_most_consecutive_points_game_2'].apply(formatTotalScore)\n",
    "merged_dataset['team_two_most_consecutive_points_game_2'] = merged_dataset['team_two_most_consecutive_points_game_2'].apply(formatTotalScore)\n",
    "merged_dataset['team_one_game_points_game_2'] = merged_dataset['team_one_game_points_game_2'].apply(formatTotalScore)\n",
    "merged_dataset['team_two_game_points_game_2'] = merged_dataset['team_two_game_points_game_2'].apply(formatTotalScore)\n",
    "merged_dataset['team_one_most_consecutive_points_game_3'] = merged_dataset['team_one_most_consecutive_points_game_3'].apply(formatTotalScore)\n",
    "merged_dataset['team_two_most_consecutive_points_game_3'] = merged_dataset['team_two_most_consecutive_points_game_3'].apply(formatTotalScore)\n",
    "merged_dataset['team_one_game_points_game_3'] = merged_dataset['team_one_game_points_game_3'].apply(formatTotalScore)\n",
    "merged_dataset['team_two_game_points_game_3'] = merged_dataset['team_two_game_points_game_3'].apply(formatTotalScore)\n",
    "\n",
    "formattedScoreGameT1 = merged_dataset['game_1_score'].apply(formatScoreGameT1)\n",
    "formattedScoreGameT2 = merged_dataset['game_1_score'].apply(formatScoreGameT2)\n",
    "merged_dataset['game_1_score_t1'] = formattedScoreGameT1\n",
    "merged_dataset['game_1_score_t2'] = formattedScoreGameT2\n",
    "\n",
    "formattedScoreGameT1 = merged_dataset['game_2_score'].apply(formatScoreGameT1)\n",
    "formattedScoreGameT2 = merged_dataset['game_2_score'].apply(formatScoreGameT2)\n",
    "merged_dataset['game_2_score_t1'] = formattedScoreGameT1\n",
    "merged_dataset['game_2_score_t2'] = formattedScoreGameT2\n",
    "\n",
    "formattedScoreGameT1 = merged_dataset['game_3_score'].apply(formatScoreGameT1)\n",
    "formattedScoreGameT2 = merged_dataset['game_3_score'].apply(formatScoreGameT2)\n",
    "merged_dataset['game_3_score_t1'] = formattedScoreGameT1\n",
    "merged_dataset['game_3_score_t2'] = formattedScoreGameT2\n",
    "\n",
    "\n",
    "filter= ['discipline','nb_sets', 'retired', 'team_one_total_points', 'team_two_total_points', 'team_one_most_consecutive_points', \n",
    "    'team_two_most_consecutive_points', 'team_one_game_points', 'team_two_game_points', 'team_one_most_consecutive_points_game_1', 'team_two_most_consecutive_points_game_1', 'team_one_game_points_game_1', \n",
    "    'team_two_game_points_game_1', 'team_one_most_consecutive_points_game_2', 'team_two_most_consecutive_points_game_2', 'team_one_game_points_game_2', 'team_two_game_points_game_2',\n",
    "    'team_one_most_consecutive_points_game_3', 'team_two_most_consecutive_points_game_3', 'team_one_game_points_game_3', 'team_two_game_points_game_3', 'game_1_score_t1', 'game_1_score_t2', 'game_2_score_t1'\n",
    "    'game_2_score_t2', 'game_3_score_t1', 'game_3_score_t2']\n",
    "merged_dataset = merged_dataset.filter(items=filter)\n",
    "\n",
    "print(list(merged_dataset.columns))"
   ]
  },
  {
   "cell_type": "code",
   "execution_count": 7,
   "metadata": {},
   "outputs": [],
   "source": [
    "# Keep only necessary columns\n",
    "# We only want gender-neutral columns\n",
    "filter= ['discipline','nb_sets', 'retired', 'game_1_score', 'game_2_score', 'game_3_score', 'team_one_total_points', 'team_two_total_points', 'team_one_most_consecutive_points', \n",
    "    'team_two_most_consecutive_points', 'team_one_game_points', 'team_two_game_points', 'team_one_most_consecutive_points_game_1', 'team_two_most_consecutive_points_game_1', 'team_one_game_points_game_1', \n",
    "    'team_two_game_points_game_1', 'team_one_most_consecutive_points_game_2', 'team_two_most_consecutive_points_game_2', 'team_one_game_points_game_2', 'team_two_game_points_game_2',\n",
    "    'team_one_most_consecutive_points_game_3', 'team_two_most_consecutive_points_game_3', 'team_one_game_points_game_3', 'team_two_game_points_game_3']\n",
    "merged_dataset = merged_dataset.filter(items=filter)"
   ]
  },
  {
   "cell_type": "code",
   "execution_count": 8,
   "metadata": {},
   "outputs": [],
   "source": [
    "# # scatter plot matrix\n",
    "# scatter_matrix(merged_dataset)\n",
    "# pyplot.show()\n",
    "\n",
    "# # histograms\n",
    "# dataset.hist()\n",
    "# pyplot.show()"
   ]
  },
  {
   "cell_type": "markdown",
   "metadata": {},
   "source": [
    "### 1.4 Prepare Dataset for training"
   ]
  },
  {
   "cell_type": "code",
   "execution_count": 9,
   "metadata": {},
   "outputs": [],
   "source": [
    "filter= ['nb_sets', 'retired', 'game_1_score', 'game_2_score', 'game_3_score', 'team_one_total_points', 'team_two_total_points', 'team_one_most_consecutive_points', \n",
    "    'team_two_most_consecutive_points', 'team_one_game_points', 'team_two_game_points', 'team_one_most_consecutive_points_game_1', 'team_two_most_consecutive_points_game_1', 'team_one_game_points_game_1', \n",
    "    'team_two_game_points_game_1', 'team_one_most_consecutive_points_game_2', 'team_two_most_consecutive_points_game_2', 'team_one_game_points_game_2', 'team_two_game_points_game_2',\n",
    "    'team_one_most_consecutive_points_game_3', 'team_two_most_consecutive_points_game_3', 'team_one_game_points_game_3', 'team_two_game_points_game_3']\n",
    "X = merged_dataset.filter(items=filter)\n",
    "Y = merged_dataset.filter(items=['discipline'])\n",
    "X_train, X_validation, Y_train, Y_validation = train_test_split(X, Y, test_size=0.20, random_state=1, shuffle=True)"
   ]
  },
  {
   "cell_type": "markdown",
   "metadata": {},
   "source": [
    "## 2. Apply learning algorithms"
   ]
  },
  {
   "cell_type": "code",
   "execution_count": 10,
   "metadata": {},
   "outputs": [],
   "source": [
    "models = []\n",
    "models.append(('LR', LogisticRegression(solver='liblinear', multi_class='ovr')))\n",
    "models.append(('LDA', LinearDiscriminantAnalysis()))\n",
    "models.append(('KNN', KNeighborsClassifier()))\n",
    "models.append(('CART', DecisionTreeClassifier()))\n",
    "models.append(('NB', GaussianNB()))\n",
    "models.append(('SVM', SVC(gamma='auto')))"
   ]
  },
  {
   "cell_type": "code",
   "execution_count": 11,
   "metadata": {},
   "outputs": [
    {
     "name": "stdout",
     "output_type": "stream",
     "text": [
      "LR: 0.292022 (0.010734)\n",
      "LDA: 0.290513 (0.009654)\n",
      "KNN: 0.245768 (0.006848)\n",
      "CART: 0.220465 (0.011024)\n",
      "NB: 0.249453 (0.015082)\n",
      "SVM: 0.285737 (0.012308)\n"
     ]
    },
    {
     "data": {
      "image/png": "[encoded data removed]",
      "text/plain": [
       "<Figure size 640x480 with 1 Axes>"
      ]
     },
     "metadata": {},
     "output_type": "display_data"
    }
   ],
   "source": [
    "results = []\n",
    "names = []\n",
    "for name, model in models:\n",
    "\tkfold = StratifiedKFold(n_splits=10, random_state=1, shuffle=True)\n",
    "\tcv_results = cross_val_score(model, X_train, Y_train.values.ravel(), cv=kfold, scoring='accuracy')\n",
    "\tresults.append(cv_results)\n",
    "\tnames.append(name)\n",
    "\tprint('%s: %f (%f)' % (name, cv_results.mean(), cv_results.std()))\n",
    "# Compare Algorithms\n",
    "pyplot.boxplot(results, labels=names)\n",
    "pyplot.title('Algorithm Comparison')\n",
    "pyplot.show()"
   ]
  },
  {
   "cell_type": "code",
   "execution_count": 12,
   "metadata": {},
   "outputs": [],
   "source": [
    "# Make predictions on validation dataset\n",
    "model = SVC(gamma='auto')\n",
    "model.fit(X_train, Y_train.values.ravel())\n",
    "predictions = model.predict(X_validation)"
   ]
  },
  {
   "cell_type": "code",
   "execution_count": 13,
   "metadata": {},
   "outputs": [
    {
     "name": "stdout",
     "output_type": "stream",
     "text": [
      "0.26541554959785524\n",
      "[[165 208  25  69  64]\n",
      " [112 412  48 106  83]\n",
      " [112 227  39  84  55]\n",
      " [ 91 291  48 114  56]\n",
      " [141 249  35  88  62]]\n",
      "              precision    recall  f1-score   support\n",
      "\n",
      "          MD       0.27      0.31      0.29       531\n",
      "          MS       0.30      0.54      0.38       761\n",
      "          WD       0.20      0.08      0.11       517\n",
      "          WS       0.25      0.19      0.21       600\n",
      "          XD       0.19      0.11      0.14       575\n",
      "\n",
      "    accuracy                           0.27      2984\n",
      "   macro avg       0.24      0.25      0.23      2984\n",
      "weighted avg       0.24      0.27      0.24      2984\n",
      "\n"
     ]
    }
   ],
   "source": [
    "# Evaluate predictions\n",
    "print(accuracy_score(Y_validation, predictions))\n",
    "print(confusion_matrix(Y_validation, predictions))\n",
    "print(classification_report(Y_validation, predictions))"
   ]
  }
 ],
 "metadata": {
  "kernelspec": {
   "display_name": "Python 3.10.8 64-bit",
   "language": "python",
   "name": "python3"
  },
  "language_info": {
   "codemirror_mode": {
    "name": "ipython",
    "version": 3
   },
   "file_extension": ".py",
   "mimetype": "text/x-python",
   "name": "python",
   "nbconvert_exporter": "python",
   "pygments_lexer": "ipython3",
   "version": "3.10.8"
  },
  "orig_nbformat": 4,
  "vscode": {
   "interpreter": {
    "hash": "e7370f93d1d0cde622a1f8e1c04877d8463912d04d973331ad4851f04de6915a"
   }
  }
 },
 "nbformat": 4,
 "nbformat_minor": 2
}
