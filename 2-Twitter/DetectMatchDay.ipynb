{
 "cells": [
  {
   "cell_type": "markdown",
   "metadata": {},
   "source": [
    "# Machine learning - Predict MatchDay"
   ]
  },
  {
   "cell_type": "markdown",
   "metadata": {},
   "source": [
    "## 0. Imports"
   ]
  },
  {
   "cell_type": "code",
   "execution_count": 3,
   "metadata": {},
   "outputs": [],
   "source": [
    "import pandas as pd\n",
    "import math\n",
    "from pandas.plotting import scatter_matrix\n",
    "from sklearn.model_selection import train_test_split\n",
    "from matplotlib import pyplot\n",
    "import os\n",
    "\n",
    "from sklearn.discriminant_analysis import LinearDiscriminantAnalysis\n",
    "from sklearn.linear_model import LogisticRegression\n",
    "from sklearn.naive_bayes import GaussianNB\n",
    "from sklearn.neighbors import KNeighborsClassifier\n",
    "from sklearn.svm import SVC\n",
    "from sklearn.tree import DecisionTreeClassifier\n",
    "from sklearn.model_selection import StratifiedKFold, cross_val_score\n",
    "from sklearn.metrics import classification_report, confusion_matrix, accuracy_score"
   ]
  },
  {
   "cell_type": "markdown",
   "metadata": {},
   "source": [
    "## 1. Filter & Format Barcelona Dataset"
   ]
  },
  {
   "cell_type": "markdown",
   "metadata": {},
   "source": [
    "### 1.1 Read in csv-files "
   ]
  },
  {
   "cell_type": "code",
   "execution_count": 4,
   "metadata": {},
   "outputs": [
    {
     "name": "stdout",
     "output_type": "stream",
     "text": [
      "['timestamp', 'tweet_text', 'username', 'all_hashtags', 'followers_count']\n"
     ]
    }
   ],
   "source": [
    "#Read in CSV's in folder\n",
    "totalFileList = os.listdir(\n",
    "        \"/home/woutd/Documents/School/Industriele Ingenieurswetenschappen/Ma1/Sem1/Machine Learning/Opdracht/Workspace/2-Twitter/\")\n",
    "listFileNames = []\n",
    "for fileName in totalFileList:\n",
    "    if ('Barcelona' in fileName):\n",
    "        listFileNames.append(fileName)       \n",
    "datasets = []\n",
    "for fileName in  listFileNames:\n",
    "    datasets.append(pd.read_csv(\"/home/woutd/Documents/School/Industriele Ingenieurswetenschappen/Ma1/Sem1/Machine Learning/Opdracht/Workspace/2-Twitter/\" + str(fileName)))\n"
   ]
  },
  {
   "cell_type": "markdown",
   "metadata": {},
   "source": [
    "### 1.2 Merge datasets into 1"
   ]
  },
  {
   "cell_type": "code",
   "execution_count": null,
   "metadata": {},
   "outputs": [],
   "source": [
    "merged_dataset = pd.DataFrame()\n",
    "for dataset in datasets:\n",
    "    merged_dataset = pd.concat([merged_dataset, dataset])\n",
    "merged_dataset.drop_duplicates()\n",
    "\n",
    "print(list(merged_dataset.columns))"
   ]
  },
  {
   "cell_type": "markdown",
   "metadata": {},
   "source": [
    "### 1.3 Format dataset [date, count]"
   ]
  },
  {
   "cell_type": "code",
   "execution_count": 5,
   "metadata": {},
   "outputs": [],
   "source": [
    "def extractDate(value):\n",
    "    date = pd.to_datetime(value)\n",
    "    return date.date()\n",
    "\n",
    "def incr(value):\n",
    "    return value + 1"
   ]
  },
  {
   "cell_type": "code",
   "execution_count": 6,
   "metadata": {},
   "outputs": [
    {
     "ename": "NameError",
     "evalue": "name 'originalDataset' is not defined",
     "output_type": "error",
     "traceback": [
      "\u001b[0;31m---------------------------------------------------------------------------\u001b[0m",
      "\u001b[0;31mNameError\u001b[0m                                 Traceback (most recent call last)",
      "Cell \u001b[0;32mIn [6], line 1\u001b[0m\n\u001b[0;32m----> 1\u001b[0m originalDataset[\u001b[39m'\u001b[39m\u001b[39mdates\u001b[39m\u001b[39m'\u001b[39m] \u001b[39m=\u001b[39m originalDataset[\u001b[39m'\u001b[39m\u001b[39mtimestamp\u001b[39m\u001b[39m'\u001b[39m]\u001b[39m.\u001b[39mapply(extractDate)\n\u001b[1;32m      3\u001b[0m dataset \u001b[39m=\u001b[39m pd\u001b[39m.\u001b[39mDataFrame(columns\u001b[39m=\u001b[39m[\u001b[39m'\u001b[39m\u001b[39mDate\u001b[39m\u001b[39m'\u001b[39m, \u001b[39m'\u001b[39m\u001b[39mCount\u001b[39m\u001b[39m'\u001b[39m])\n\u001b[1;32m      4\u001b[0m \u001b[39mfor\u001b[39;00m date \u001b[39min\u001b[39;00m originalDataset[\u001b[39m'\u001b[39m\u001b[39mdates\u001b[39m\u001b[39m'\u001b[39m]:\n",
      "\u001b[0;31mNameError\u001b[0m: name 'originalDataset' is not defined"
     ]
    }
   ],
   "source": [
    "merged_dataset['dates'] = merged_dataset['timestamp'].apply(extractDate)\n",
    "\n",
    "dataset = pd.DataFrame(columns=['Date', 'Count'])\n",
    "for date in merged_dataset['dates']:\n",
    "    if(date in dataset['Date']):\n",
    "        \n",
    "        print('Great Succes')\n",
    "    else:\n",
    "        dataset = dataset.append({'Date': date, 'Count': 0}, ignore_index=True)\n",
    "print(dataset)"
   ]
  }
 ],
 "metadata": {
  "kernelspec": {
   "display_name": "Python 3.10.8 64-bit",
   "language": "python",
   "name": "python3"
  },
  "language_info": {
   "codemirror_mode": {
    "name": "ipython",
    "version": 3
   },
   "file_extension": ".py",
   "mimetype": "text/x-python",
   "name": "python",
   "nbconvert_exporter": "python",
   "pygments_lexer": "ipython3",
   "version": "3.10.8"
  },
  "orig_nbformat": 4,
  "vscode": {
   "interpreter": {
    "hash": "e7370f93d1d0cde622a1f8e1c04877d8463912d04d973331ad4851f04de6915a"
   }
  }
 },
 "nbformat": 4,
 "nbformat_minor": 2
}
