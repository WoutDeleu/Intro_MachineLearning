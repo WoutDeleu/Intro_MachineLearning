{
 "cells": [
  {
   "cell_type": "markdown",
   "metadata": {},
   "source": [
    "# Machine learning - Predict MatchDay"
   ]
  },
  {
   "cell_type": "markdown",
   "metadata": {},
   "source": [
    "## 0. Imports"
   ]
  },
  {
   "cell_type": "code",
   "execution_count": 32,
   "metadata": {},
   "outputs": [],
   "source": [
    "import pandas as pd\n",
    "import math\n",
    "from pandas.plotting import scatter_matrix\n",
    "from sklearn.model_selection import train_test_split\n",
    "from matplotlib import pyplot\n",
    "import os\n",
    "\n",
    "from sklearn.discriminant_analysis import LinearDiscriminantAnalysis\n",
    "from sklearn.linear_model import LogisticRegression\n",
    "from sklearn.naive_bayes import GaussianNB\n",
    "from sklearn.neighbors import KNeighborsClassifier\n",
    "from sklearn.svm import SVC\n",
    "from sklearn.tree import DecisionTreeClassifier\n",
    "from sklearn.model_selection import StratifiedKFold, cross_val_score\n",
    "from sklearn.metrics import classification_report, confusion_matrix, accuracy_score"
   ]
  },
  {
   "cell_type": "markdown",
   "metadata": {},
   "source": [
    "## 1. Filter & Format Barcelona Dataset"
   ]
  },
  {
   "cell_type": "markdown",
   "metadata": {},
   "source": [
    "### 1.1 Read in csv-files "
   ]
  },
  {
   "cell_type": "code",
   "execution_count": 33,
   "metadata": {},
   "outputs": [
    {
     "name": "stdout",
     "output_type": "stream",
     "text": [
      "7\n"
     ]
    }
   ],
   "source": [
    "#Read in CSV's in folder\n",
    "totalFileList = os.listdir(\n",
    "        \"/home/woutd/Documents/School/Industriele Ingenieurswetenschappen/Ma1/Sem1/Machine Learning/Opdracht/Workspace/2-Twitter/\")\n",
    "listFileNames = []\n",
    "for fileName in totalFileList:\n",
    "    if ('Barcelona' in fileName):\n",
    "        listFileNames.append(fileName)\n",
    "print(len(listFileNames))      \n",
    "datasets = []\n",
    "for fileName in  listFileNames:\n",
    "    datasets.append(pd.read_csv(\"/home/woutd/Documents/School/Industriele Ingenieurswetenschappen/Ma1/Sem1/Machine Learning/Opdracht/Workspace/2-Twitter/\" + str(fileName)))\n"
   ]
  },
  {
   "cell_type": "markdown",
   "metadata": {},
   "source": [
    "### 1.2 Merge datasets into 1"
   ]
  },
  {
   "cell_type": "code",
   "execution_count": 34,
   "metadata": {},
   "outputs": [
    {
     "name": "stdout",
     "output_type": "stream",
     "text": [
      "['timestamp', 'tweet_text', 'username', 'all_hashtags', 'followers_count']\n"
     ]
    }
   ],
   "source": [
    "merged_dataset = pd.DataFrame()\n",
    "for dataset in datasets:\n",
    "    merged_dataset = pd.concat([merged_dataset, dataset])\n",
    "merged_dataset.drop_duplicates()\n",
    "\n",
    "print(list(merged_dataset.columns))"
   ]
  },
  {
   "cell_type": "markdown",
   "metadata": {},
   "source": [
    "### 1.3 Format dataset [date, count]"
   ]
  },
  {
   "cell_type": "code",
   "execution_count": 35,
   "metadata": {},
   "outputs": [],
   "source": [
    "def extractDate(value):\n",
    "    date = pd.to_datetime(value)\n",
    "    return date.date()\n",
    "\n",
    "def incr(value):\n",
    "    return value + 1"
   ]
  },
  {
   "cell_type": "code",
   "execution_count": 36,
   "metadata": {},
   "outputs": [
    {
     "name": "stdout",
     "output_type": "stream",
     "text": [
      "         Date Count\n",
      "0  2022-11-17   357\n",
      "0  2022-11-16   965\n",
      "0  2022-11-15   892\n",
      "0  2022-11-14  1243\n",
      "0  2022-11-13   638\n",
      "0  2022-11-12  1468\n",
      "0  2022-11-11  1593\n",
      "0  2022-11-10   477\n",
      "0  2022-11-09  2684\n",
      "0  2022-11-08  1881\n",
      "0  2022-11-07  1080\n",
      "0  2022-11-06  2357\n",
      "0  2022-11-03   691\n",
      "0  2022-11-02  1307\n"
     ]
    }
   ],
   "source": [
    "merged_dataset['dates'] = merged_dataset['timestamp'].apply(extractDate)\n",
    "merged_dataset.drop_duplicates()\n",
    "\n",
    "dataset = pd.DataFrame(columns=['Date', 'Count'])\n",
    "for date in merged_dataset['dates']:\n",
    "    if(date in dataset['Date'].unique()):\n",
    "        dataset.loc[dataset['Date'] == date, 'Count'] += 1\n",
    "    else:\n",
    "        # print('Fail')\n",
    "        dataset = pd.concat([dataset, pd.DataFrame([[date, 0]], columns=['Date', 'Count'])])\n",
    "# dataset.drop_duplicates()\n",
    "dataset.sort_values(by=[\"Date\"],ascending=False, inplace=True)\n",
    "print(dataset)"
   ]
  },
  {
   "cell_type": "markdown",
   "metadata": {},
   "source": [
    "### 1.4 Controle data"
   ]
  },
  {
   "cell_type": "code",
   "execution_count": 38,
   "metadata": {},
   "outputs": [
    {
     "name": "stdout",
     "output_type": "stream",
     "text": [
      "         Date Count  MatchDay\n",
      "0  2022-11-17   357     False\n",
      "0  2022-11-16   965     False\n",
      "0  2022-11-15   892     False\n",
      "0  2022-11-14  1243     False\n",
      "0  2022-11-13   638     False\n",
      "0  2022-11-12  1468     False\n",
      "0  2022-11-11  1593     False\n",
      "0  2022-11-10   477     False\n",
      "0  2022-11-09  2684      True\n",
      "0  2022-11-08  1881     False\n",
      "0  2022-11-07  1080     False\n",
      "0  2022-11-06  2357      True\n",
      "0  2022-11-03   691     False\n",
      "0  2022-11-02  1307     False\n"
     ]
    }
   ],
   "source": [
    "dataset['MatchDay'] = False\n",
    "matchdays = [pd.Timestamp(day=6, year=2022, month=11),\n",
    "            pd.Timestamp(day=9, year=2022, month=11),\n",
    "            pd.Timestamp(day=1, year=2022, month=11),\n",
    "            pd.Timestamp(day=20, year=2022, month=11), \n",
    "            pd.Timestamp(day=27, year=2022, month=11),]\n",
    "for date in dataset['Date']:\n",
    "    if(pd.Timestamp(date) in matchdays):\n",
    "        dataset.loc[dataset['Date'] == date, 'MatchDay'] = True\n",
    "print(dataset)\n"
   ]
  }
 ],
 "metadata": {
  "kernelspec": {
   "display_name": "Python 3.10.8 64-bit",
   "language": "python",
   "name": "python3"
  },
  "language_info": {
   "codemirror_mode": {
    "name": "ipython",
    "version": 3
   },
   "file_extension": ".py",
   "mimetype": "text/x-python",
   "name": "python",
   "nbconvert_exporter": "python",
   "pygments_lexer": "ipython3",
   "version": "3.10.8"
  },
  "orig_nbformat": 4,
  "vscode": {
   "interpreter": {
    "hash": "e7370f93d1d0cde622a1f8e1c04877d8463912d04d973331ad4851f04de6915a"
   }
  }
 },
 "nbformat": 4,
 "nbformat_minor": 2
}
